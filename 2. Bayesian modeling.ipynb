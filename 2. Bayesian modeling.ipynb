{
 "cells": [
  {
   "cell_type": "markdown",
   "id": "EMCQgGTog2bT",
   "metadata": {
    "id": "EMCQgGTog2bT"
   },
   "source": [
    "### Modeling"
   ]
  },
  {
   "cell_type": "markdown",
   "id": "5856a85a",
   "metadata": {
    "id": "5856a85a"
   },
   "source": [
    "# 1. Import"
   ]
  },
  {
   "cell_type": "code",
   "execution_count": null,
   "id": "0f00af1b",
   "metadata": {
    "colab": {
     "base_uri": "https://localhost:8080/"
    },
    "id": "0f00af1b",
    "outputId": "7efebf50-f02c-4493-bdb5-9d6f5f5196f2"
   },
   "outputs": [
    {
     "name": "stdout",
     "output_type": "stream",
     "text": [
      "Unknown system...\n"
     ]
    }
   ],
   "source": [
    "import pandas as pd\n",
    "import numpy as np\n",
    "import matplotlib.pyplot as plt\n",
    "from matplotlib import font_manager, rc\n",
    "%matplotlib inline\n",
    "import gc\n",
    "\n",
    "import platform\n",
    "\n",
    "path = \"c:/Windows/Fonts/malgun.ttf\"\n",
    "if platform.system() == 'Darwin':\n",
    "    rc('font', family='AppleGothic')\n",
    "elif platform.system() == 'Windows':\n",
    "    font_name = font_manager.FontProperties(fname=path).get_name()\n",
    "    rc('font', family=font_name)\n",
    "else:\n",
    "    print('Unknown system...')\n",
    "rc('axes', unicode_minus=False)"
   ]
  },
  {
   "cell_type": "code",
   "execution_count": null,
   "id": "f1qiXX1GW-e3",
   "metadata": {
    "colab": {
     "base_uri": "https://localhost:8080/"
    },
    "id": "f1qiXX1GW-e3",
    "outputId": "7be129f9-d2fe-41b2-fe21-8edd404925b7"
   },
   "outputs": [
    {
     "name": "stdout",
     "output_type": "stream",
     "text": [
      "Mounted at /content/gdrive\n"
     ]
    }
   ],
   "source": [
    "from google.colab import drive\n",
    "drive.mount('/content/gdrive')"
   ]
  },
  {
   "cell_type": "code",
   "execution_count": null,
   "id": "QmFMnj8z5KaN",
   "metadata": {
    "id": "QmFMnj8z5KaN"
   },
   "outputs": [],
   "source": [
    "from zipfile import ZipFile"
   ]
  },
  {
   "cell_type": "code",
   "execution_count": null,
   "id": "8Y32deCSm-yO",
   "metadata": {
    "colab": {
     "base_uri": "https://localhost:8080/"
    },
    "id": "8Y32deCSm-yO",
    "outputId": "05fc0cc6-2279-46e2-db30-da6d47f9698e"
   },
   "outputs": [
    {
     "name": "stdout",
     "output_type": "stream",
     "text": [
      "LPOINT_BIG_COMP_01_DEMO.csv\n",
      "LPOINT_BIG_COMP_02_PDDE.csv\n",
      "LPOINT_BIG_COMP_03_COP_U.csv\n",
      "LPOINT_BIG_COMP_04_PD_CLAC.csv\n",
      "LPOINT_BIG_COMP_05_BR.csv\n",
      "LPOINT_BIG_COMP_06_LPAY.csv\n"
     ]
    }
   ],
   "source": [
    "with ZipFile('/content/gdrive/MyDrive/Lpoint/LPOINT_BIG_COMP.zip', 'r') as zipObj:\n",
    "    listOfFileNames = zipObj.namelist()\n",
    "    for fileName in listOfFileNames:\n",
    "        print(fileName)"
   ]
  },
  {
   "cell_type": "code",
   "execution_count": null,
   "id": "PNbhs2U-nn6I",
   "metadata": {
    "colab": {
     "base_uri": "https://localhost:8080/"
    },
    "id": "PNbhs2U-nn6I",
    "outputId": "3f7a62a8-7061-4fb7-d572-bf6e8731dc5b"
   },
   "outputs": [
    {
     "name": "stdout",
     "output_type": "stream",
     "text": [
      "LPOINT_BIG_COMP_01_DEMO.csv\n",
      "LPOINT_BIG_COMP_02_PDDE.csv\n"
     ]
    },
    {
     "name": "stderr",
     "output_type": "stream",
     "text": [
      "/usr/local/lib/python3.7/dist-packages/IPython/core/interactiveshell.py:2882: DtypeWarning: Columns (4) have mixed types.Specify dtype option on import or set low_memory=False.\n",
      "  exec(code_obj, self.user_global_ns, self.user_ns)\n"
     ]
    },
    {
     "name": "stdout",
     "output_type": "stream",
     "text": [
      "LPOINT_BIG_COMP_03_COP_U.csv\n",
      "LPOINT_BIG_COMP_04_PD_CLAC.csv\n",
      "LPOINT_BIG_COMP_05_BR.csv\n",
      "LPOINT_BIG_COMP_06_LPAY.csv\n"
     ]
    }
   ],
   "source": [
    "from io import BytesIO\n",
    "\n",
    "data_filename = []\n",
    "data=[] \n",
    "with ZipFile('/content/gdrive/MyDrive/Lpoint/LPOINT_BIG_COMP.zip', 'r') as zipObj:\n",
    "    listOfFileNames = zipObj.namelist()\n",
    "    for fileName in listOfFileNames:\n",
    "        if fileName.endswith('csv'): \n",
    "            print(fileName)\n",
    "            zipRead = zipObj.read(fileName)\n",
    "            curr_df = pd.read_csv(BytesIO(zipRead))\n",
    "            data.append(curr_df)\n",
    "            data_filename.append(fileName)"
   ]
  },
  {
   "cell_type": "code",
   "execution_count": null,
   "id": "rNmkiTEYn2nJ",
   "metadata": {
    "id": "rNmkiTEYn2nJ"
   },
   "outputs": [],
   "source": [
    "demo = data[0]\n",
    "pdde = data[1]\n",
    "cop_u = data[2]\n",
    "pd_clac = data[3]\n",
    "br = data[4]\n",
    "lpay = data[5]"
   ]
  },
  {
   "cell_type": "code",
   "execution_count": null,
   "id": "PtgXO9pVoZAu",
   "metadata": {
    "id": "PtgXO9pVoZAu"
   },
   "outputs": [],
   "source": [
    "lpay = data[5]"
   ]
  },
  {
   "cell_type": "markdown",
   "id": "a55f26fe",
   "metadata": {
    "id": "a55f26fe"
   },
   "source": [
    "# 4. Modeling"
   ]
  },
  {
   "cell_type": "markdown",
   "id": "QMFybH2Za-GL",
   "metadata": {
    "id": "QMFybH2Za-GL"
   },
   "source": [
    "### Bayesian Modeling"
   ]
  },
  {
   "cell_type": "code",
   "execution_count": null,
   "id": "sopMlpFGziBE",
   "metadata": {
    "id": "sopMlpFGziBE"
   },
   "outputs": [],
   "source": [
    "pdde = pd.read_csv('/content/gdrive/MyDrive/Lpoint/pdde_1.csv')\n",
    "demo = pd.read_csv('/content/gdrive/MyDrive/Lpoint/demo_최종.csv')\n",
    "lpay=  pd.read_csv('/content/gdrive/MyDrive/Lpoint/lpay_1.csv')"
   ]
  },
  {
   "cell_type": "code",
   "execution_count": null,
   "id": "eRlPI6XIaScf",
   "metadata": {
    "id": "eRlPI6XIaScf"
   },
   "outputs": [],
   "source": [
    "person = demo[['cust','persona']]"
   ]
  },
  {
   "cell_type": "code",
   "execution_count": null,
   "id": "pC7Qkp23ZnfG",
   "metadata": {
    "id": "pC7Qkp23ZnfG"
   },
   "outputs": [],
   "source": [
    "lpay = lpay.merge(person,on = 'cust', how = 'inner')"
   ]
  },
  {
   "cell_type": "code",
   "execution_count": null,
   "id": "H-VI8sKrjRjB",
   "metadata": {
    "id": "H-VI8sKrjRjB"
   },
   "outputs": [],
   "source": [
    "import seaborn as sns"
   ]
  },
  {
   "cell_type": "code",
   "execution_count": null,
   "id": "sNSas4--gUm_",
   "metadata": {
    "id": "sNSas4--gUm_"
   },
   "outputs": [],
   "source": [
    "persona_list = lpay.persona.unique()"
   ]
  },
  {
   "cell_type": "code",
   "execution_count": null,
   "id": "akZunG6pIBCD",
   "metadata": {
    "id": "akZunG6pIBCD"
   },
   "outputs": [],
   "source": [
    "mu_prior = lpay['buy_am'].mean()\n",
    "std_prior =  np.log(lpay.buy_am).std()"
   ]
  },
  {
   "cell_type": "code",
   "execution_count": null,
   "id": "4d970f31",
   "metadata": {},
   "outputs": [],
   "source": [
    "import pymc3 as pm\n",
    "\n",
    "# 데이터를 가정한 기존 추정과는 다르게 데이터가 없는 상황에서의 추론을 이야기하는 것이다.\n",
    "# 지금은 기존 데이터에 대한 상수 값이 아닌 어떤 분포를 알고있는 것이다.\n",
    "price_trace_dict = dict()\n",
    "increase_dict = dict()\n",
    "for i in persona_list:\n",
    "    sample = lpay.query('persona == @i').copy()\n",
    "    lh = sample.buy_am.mean()\n",
    "    with pm.Model() as model:\n",
    "        lpay_sum = pm.Exponential(\"lpay\", lam=1/mu_prior) # theta\n",
    "        persona_sum = pm.Exponential(\"lpay_per_per\", lam=1/lh)\n",
    "        lpay_estimate = persona_sum\n",
    "        logp = pm.Normal.dist(mu=lpay_sum, sd=(3e3)).logp(lpay_estimate)\n",
    "        error = pm.Potential(\"error\", logp) \n",
    "        trace = pm.sample(50000, step=pm.Metropolis())\n",
    "        burned_trace = trace[10000:]\n",
    "\n",
    "    price_trace = burned_trace[\"lpay\"]\n",
    "    price_trace_dict[i] = price_trace"
   ]
  },
  {
   "cell_type": "code",
   "execution_count": null,
   "id": "D8TjuZMOO8ID",
   "metadata": {
    "id": "D8TjuZMOO8ID"
   },
   "outputs": [],
   "source": [
    "\"\"\"import pickle\n",
    "# save data\n",
    "with open('persona.pickle','wb') as fw:\n",
    "    pickle.dump(price_trace_dict, fw)\"\"\""
   ]
  },
  {
   "cell_type": "markdown",
   "id": "JW3LKUp7lDne",
   "metadata": {
    "id": "JW3LKUp7lDne"
   },
   "source": [
    "### Montecarlo Simulation"
   ]
  },
  {
   "cell_type": "code",
   "execution_count": null,
   "id": "e2vQkycGJxl-",
   "metadata": {
    "id": "e2vQkycGJxl-"
   },
   "outputs": [],
   "source": [
    "import pickle\n",
    "with open(\"/content/gdrive/MyDrive/Lpoint/persona.pickle\",\"rb\") as fr:\n",
    "  persona_dict = pickle.load(fr)"
   ]
  },
  {
   "cell_type": "code",
   "execution_count": null,
   "id": "KpSt2ZB_x9E2",
   "metadata": {
    "colab": {
     "base_uri": "https://localhost:8080/"
    },
    "id": "KpSt2ZB_x9E2",
    "outputId": "91ec8cd2-520b-4ff2-bb2b-5afb4c9dd1ae"
   },
   "outputs": [
    {
     "data": {
      "text/plain": [
       "78"
      ]
     },
     "execution_count": 4,
     "metadata": {},
     "output_type": "execute_result"
    }
   ],
   "source": [
    "len(persona_dict)"
   ]
  },
  {
   "cell_type": "code",
   "execution_count": null,
   "id": "QFtY1mt4nl0x",
   "metadata": {
    "id": "QFtY1mt4nl0x"
   },
   "outputs": [],
   "source": [
    "import seaborn as sns"
   ]
  },
  {
   "cell_type": "code",
   "execution_count": null,
   "id": "InT3-5Zem8oI",
   "metadata": {
    "id": "InT3-5Zem8oI"
   },
   "outputs": [],
   "source": [
    "def discount_rate(x,y): # 단순 매출에대한 Loss function\n",
    "  if 0 < x <= 10:\n",
    "    r = np.log(x) + 1\n",
    "    r1 = np.random.exponential(r)\n",
    "    return y*x*0.01 - y*r1*0.01 \n",
    "  elif 10 < x <= 20:\n",
    "    r =  np.log(x) + 2\n",
    "    r1 = np.random.exponential(r)\n",
    "    return y*x*0.01 - y*r1*0.01 \n",
    "  else :\n",
    "    return np.inf"
   ]
  },
  {
   "cell_type": "code",
   "execution_count": null,
   "id": "fI0lcEsrOz1D",
   "metadata": {
    "colab": {
     "base_uri": "https://localhost:8080/",
     "height": 299
    },
    "id": "fI0lcEsrOz1D",
    "outputId": "eda5e5ca-3ff0-4dae-c99a-9cf0ff569857"
   },
   "outputs": [
    {
     "data": {
      "text/plain": [
       "<matplotlib.legend.Legend at 0x7f070c169910>"
      ]
     },
     "execution_count": 34,
     "metadata": {},
     "output_type": "execute_result"
    },
    {
     "data": {
      "image/png": "[encoded data removed]",
      "text/plain": [
       "<Figure size 432x288 with 1 Axes>"
      ]
     },
     "metadata": {},
     "output_type": "display_data"
    }
   ],
   "source": [
    "# 사후분포 예시\n",
    "\n",
    "import scipy.stats as stats\n",
    "mu_prior = lpay['buy_am'].mean()\n",
    "x = np.linspace(5000, 40000)\n",
    "#사전에 제시한 정규분포\n",
    "_hist = plt.hist(persona_dict['40대_no7_여성'], bins = 100, density= True, histtype= \"stepfilled\")\n",
    "# 업데이트 된 후 Price_trace 의 그래프\n",
    "plt.title(\"Posterior of the true price estimate\")\n",
    "plt.vlines(mu_prior, 0, 1.1*np.max(_hist[0]), label = \"prior's mean\",\n",
    "           linestyles=\"--\")\n",
    "plt.vlines(persona_dict['40대_no5_남성'].mean(), 0, 1.1*np.max(_hist[0]), \\\n",
    "           label = \"posterior's mean\", linestyles=\"-.\")\n",
    "plt.legend(loc = \"upper left\")"
   ]
  },
  {
   "cell_type": "code",
   "execution_count": null,
   "id": "iB5ekXPuz9Pe",
   "metadata": {
    "id": "iB5ekXPuz9Pe"
   },
   "outputs": [],
   "source": [
    "print(persona_dict['40대_no7_여성'].mean(), '사후평균 예시')"
   ]
  },
  {
   "cell_type": "code",
   "execution_count": null,
   "id": "1YpRW2F8qste",
   "metadata": {
    "id": "1YpRW2F8qste"
   },
   "outputs": [],
   "source": [
    "persona_loss= dict()\n",
    "for z in persona_list:\n",
    "  amount = persona_dict[z].mean()\n",
    "  expected_loss = lambda discount: \\\n",
    "      discount_rate(discount, persona_dict[z].mean())\n",
    "  a = demo.query('persona == @z')['가격민감성'].mean()\n",
    "  b = demo.query('persona == @z')['광고와홍보'].mean()\n",
    "  loss_list = dict()\n",
    "  for i in range(1,21):\n",
    "    ls = []  \n",
    "    for j in range(10000):\n",
    "      ls.append(expected_loss(i)*0.01  - (a+b)*np.log(i))\n",
    "    loss_list[i] = np.array(ls).mean()\n",
    "  key_min = min(loss_list.keys(), key=(lambda k: loss_list[k]))\n",
    "  persona_loss[z] = key_min"
   ]
  },
  {
   "cell_type": "code",
   "execution_count": null,
   "id": "v_Q_BKymu0dK",
   "metadata": {
    "colab": {
     "base_uri": "https://localhost:8080/"
    },
    "id": "v_Q_BKymu0dK",
    "outputId": "733e953f-9213-49a5-946f-5e8e4853d744"
   },
   "outputs": [
    {
     "data": {
      "text/plain": [
       "34428.256799399904"
      ]
     },
     "execution_count": 103,
     "metadata": {},
     "output_type": "execute_result"
    }
   ],
   "source": [
    "persona_dict[\"40대_no4_여성\"].mean()"
   ]
  },
  {
   "cell_type": "code",
   "execution_count": null,
   "id": "RCGSojBMuIu7",
   "metadata": {
    "colab": {
     "base_uri": "https://localhost:8080/"
    },
    "id": "RCGSojBMuIu7",
    "outputId": "a589aac4-af8c-4b84-d90f-d57fee0847c6"
   },
   "outputs": [
    {
     "data": {
      "text/plain": [
       "3"
      ]
     },
     "execution_count": 104,
     "metadata": {},
     "output_type": "execute_result"
    }
   ],
   "source": [
    "key_min"
   ]
  },
  {
   "cell_type": "code",
   "execution_count": null,
   "id": "VTEjMpYT-cz0",
   "metadata": {
    "colab": {
     "base_uri": "https://localhost:8080/",
     "height": 283
    },
    "id": "VTEjMpYT-cz0",
    "outputId": "6be8be29-c719-4ae1-f801-406ee5b30779"
   },
   "outputs": [
    {
     "data": {
      "text/plain": [
       "<matplotlib.collections.PathCollection at 0x7f0709a8d710>"
      ]
     },
     "execution_count": 105,
     "metadata": {},
     "output_type": "execute_result"
    },
    {
     "data": {
      "image/png": "[encoded data removed]",
      "text/plain": [
       "<Figure size 432x288 with 1 Axes>"
      ]
     },
     "metadata": {},
     "output_type": "display_data"
    }
   ],
   "source": [
    "plt.scatter(loss_list.keys(),loss_list.values())"
   ]
  },
  {
   "cell_type": "code",
   "execution_count": null,
   "id": "LiDalYXakgxn",
   "metadata": {
    "id": "LiDalYXakgxn"
   },
   "outputs": [],
   "source": [
    "import pickle\n",
    "with open(\"/content/persona_loss.pickle\",\"wb\") as fw:\n",
    "  pickle.dump(persona_loss, fw)"
   ]
  },
  {
   "cell_type": "code",
   "execution_count": null,
   "id": "KOetuhBFj97R",
   "metadata": {
    "colab": {
     "base_uri": "https://localhost:8080/",
     "height": 265
    },
    "id": "KOetuhBFj97R",
    "outputId": "78c074b9-4ec9-466d-bad7-db26949c5278"
   },
   "outputs": [
    {
     "data": {
      "image/png": "[encoded data removed]",
      "text/plain": [
       "<Figure size 432x288 with 1 Axes>"
      ]
     },
     "metadata": {},
     "output_type": "display_data"
    }
   ],
   "source": [
    "sns.histplot(persona_loss.values())\n",
    "plt.show()"
   ]
  },
  {
   "cell_type": "markdown",
   "id": "a08dc603",
   "metadata": {
    "id": "a08dc603"
   },
   "source": [
    "___"
   ]
  },
  {
   "cell_type": "code",
   "execution_count": null,
   "id": "mFtGtMW6tjV4",
   "metadata": {
    "colab": {
     "base_uri": "https://localhost:8080/",
     "height": 211
    },
    "id": "mFtGtMW6tjV4",
    "outputId": "6e18f3e0-5f1c-462c-bfa2-aeb2d0d54641"
   },
   "outputs": [
    {
     "ename": "FileNotFoundError",
     "evalue": "ignored",
     "output_type": "error",
     "traceback": [
      "\u001b[0;31m---------------------------------------------------------------------------\u001b[0m",
      "\u001b[0;31mFileNotFoundError\u001b[0m                         Traceback (most recent call last)",
      "\u001b[0;32m<ipython-input-5-903fd1c5b2f6>\u001b[0m in \u001b[0;36m<module>\u001b[0;34m()\u001b[0m\n\u001b[1;32m      1\u001b[0m \u001b[0;32mimport\u001b[0m \u001b[0mpickle\u001b[0m\u001b[0;34m\u001b[0m\u001b[0;34m\u001b[0m\u001b[0m\n\u001b[0;32m----> 2\u001b[0;31m \u001b[0;32mwith\u001b[0m \u001b[0mopen\u001b[0m\u001b[0;34m(\u001b[0m\u001b[0;34m\"/content/gdrive/MyDrive/Lpoint/persona_loss.pickle\"\u001b[0m\u001b[0;34m,\u001b[0m\u001b[0;34m\"rb\"\u001b[0m\u001b[0;34m)\u001b[0m \u001b[0;32mas\u001b[0m \u001b[0mfr\u001b[0m\u001b[0;34m:\u001b[0m\u001b[0;34m\u001b[0m\u001b[0;34m\u001b[0m\u001b[0m\n\u001b[0m\u001b[1;32m      3\u001b[0m   \u001b[0mpersona_losst\u001b[0m \u001b[0;34m=\u001b[0m \u001b[0mpickle\u001b[0m\u001b[0;34m.\u001b[0m\u001b[0mload\u001b[0m\u001b[0;34m(\u001b[0m\u001b[0mfr\u001b[0m\u001b[0;34m)\u001b[0m\u001b[0;34m\u001b[0m\u001b[0;34m\u001b[0m\u001b[0m\n",
      "\u001b[0;31mFileNotFoundError\u001b[0m: [Errno 2] No such file or directory: '/content/gdrive/MyDrive/Lpoint/persona_loss.pickle'"
     ]
    }
   ],
   "source": [
    "import pickle\n",
    "with open(\"/content/gdrive/MyDrive/Lpoint/persona_loss.pickle\",\"rb\") as fr:\n",
    "  persona_loss = pickle.load(fr)"
   ]
  }
 ],
 "metadata": {
  "accelerator": "GPU",
  "colab": {
   "collapsed_sections": [
    "EMCQgGTog2bT",
    "9f01affa",
    "1e3781fb",
    "fc02cf0e",
    "e5d8fae9",
    "b3d499cc",
    "43a8308c",
    "a1c32832",
    "2b1d3173",
    "5bdcc8f0",
    "ef1de5c8",
    "ad678ed6",
    "ed3be08f"
   ],
   "machine_shape": "hm",
   "name": "베이지안모델링.ipynb",
   "provenance": []
  },
  "gpuClass": "standard",
  "kernelspec": {
   "display_name": "Python 3 (ipykernel)",
   "language": "python",
   "name": "python3"
  },
  "language_info": {
   "codemirror_mode": {
    "name": "ipython",
    "version": 3
   },
   "file_extension": ".py",
   "mimetype": "text/x-python",
   "name": "python",
   "nbconvert_exporter": "python",
   "pygments_lexer": "ipython3",
   "version": "3.9.13"
  }
 },
 "nbformat": 4,
 "nbformat_minor": 5
}
